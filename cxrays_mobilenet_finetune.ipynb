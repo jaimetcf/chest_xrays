{
 "cells": [
  {
   "cell_type": "code",
   "execution_count": 1,
   "metadata": {
    "colab": {
     "base_uri": "https://localhost:8080/",
     "height": 122
    },
    "colab_type": "code",
    "executionInfo": {
     "elapsed": 21927,
     "status": "ok",
     "timestamp": 1568936536946,
     "user": {
      "displayName": "Jaime Santo",
      "photoUrl": "https://lh3.googleusercontent.com/a-/AAuE7mBmyV7-C_c1EyNHrDc0gsu0VHqVslOzG8yEXsRv=s64",
      "userId": "17913989483502775130"
     },
     "user_tz": 180
    },
    "id": "jcrdKa3DlHfu",
    "outputId": "c056cf73-ef8b-40bd-916d-b54bbeab0267"
   },
   "outputs": [
    {
     "name": "stdout",
     "output_type": "stream",
     "text": [
      "Go to this URL in a browser: https://accounts.google.com/o/oauth2/auth?client_id=947318989803-6bn6qk8qdgf4n4g3pfee6491hc0brc4i.apps.googleusercontent.com&redirect_uri=urn%3Aietf%3Awg%3Aoauth%3A2.0%3Aoob&scope=email%20https%3A%2F%2Fwww.googleapis.com%2Fauth%2Fdocs.test%20https%3A%2F%2Fwww.googleapis.com%2Fauth%2Fdrive%20https%3A%2F%2Fwww.googleapis.com%2Fauth%2Fdrive.photos.readonly%20https%3A%2F%2Fwww.googleapis.com%2Fauth%2Fpeopleapi.readonly&response_type=code\n",
      "\n",
      "Enter your authorization code:\n",
      "··········\n",
      "Mounted at /content/drive\n"
     ]
    }
   ],
   "source": [
    "# MOUNTING GOOGLE DRIVE ##########################################################################\n",
    "\n",
    "from google.colab import drive\n",
    "drive.mount('/content/drive')"
   ]
  },
  {
   "cell_type": "markdown",
   "metadata": {
    "colab": {
     "base_uri": "https://localhost:8080/",
     "height": 34
    },
    "colab_type": "code",
    "executionInfo": {
     "elapsed": 2117,
     "status": "ok",
     "timestamp": 1568936615008,
     "user": {
      "displayName": "Jaime Santo",
      "photoUrl": "https://lh3.googleusercontent.com/a-/AAuE7mBmyV7-C_c1EyNHrDc0gsu0VHqVslOzG8yEXsRv=s64",
      "userId": "17913989483502775130"
     },
     "user_tz": 180
    },
    "id": "f4XN2OZ6lPJB",
    "outputId": "c812be9f-67ab-4375-d7fb-6143c3b3bbda"
   },
   "source": [
    "# Finetuning mobilenet model \n",
    "### The objective in this file is to use the previously trained mobilenet model (mobilenet_tuning.27-0.9527.h5), and finetune it to improve accuracy"
   ]
  },
  {
   "cell_type": "code",
   "execution_count": null,
   "metadata": {},
   "outputs": [],
   "source": [
    "# IMPORTS LIBRARIES NEEDED #######################################################################\n",
    "\n",
    "import numpy as np \n",
    "import pandas as pd \n",
    "\n",
    "import matplotlib.pyplot as plt\n",
    "\n",
    "import keras\n",
    "from keras.preprocessing.image import ImageDataGenerator\n",
    "from keras.optimizers import RMSprop, Adam, SGD\n",
    "from keras import layers\n",
    "from keras import models\n",
    "\n",
    "from keras.applications import MobileNet\n",
    "from keras.applications.mobilenet import preprocess_input\n",
    "\n",
    "from keras.callbacks import ModelCheckpoint, EarlyStopping"
   ]
  },
  {
   "cell_type": "code",
   "execution_count": 0,
   "metadata": {
    "colab": {},
    "colab_type": "code",
    "id": "_ruBNJcx2rSJ"
   },
   "outputs": [],
   "source": [
    "# DEFINES SOME PARAMETERS ########################################################################\n",
    "\n",
    "train_path  = \"/content/drive/My Drive/ML/projects/chest_xray/images/train\"\n",
    "test_path   = \"/content/drive/My Drive/ML/projects/chest_xray/images/test\"\n",
    "val_path    = \"/content/drive/My Drive/ML/projects/chest_xray/images/val\"\n",
    "models_path = \"/content/drive/My Drive/ML/projects/chest_xray/cnn_models/\"\n",
    "\n",
    "# This is a mobilenet model previously trained with the same data\n",
    "model_file_name =\"mobilenet_tuning.27-0.9527.h5\"\n",
    "\n",
    "BATCH_SIZE = 32\n",
    "\n",
    "IM_HEIGHT = 200\n",
    "IM_WIDTH = 200\n",
    "\n",
    "NTRAIN_IMAGES = 5216\n",
    "NTEST_IMAGES = 624\n",
    "NVAL_IMAGES = 16"
   ]
  },
  {
   "cell_type": "code",
   "execution_count": 4,
   "metadata": {
    "colab": {
     "base_uri": "https://localhost:8080/",
     "height": 68
    },
    "colab_type": "code",
    "executionInfo": {
     "elapsed": 15658,
     "status": "ok",
     "timestamp": 1568936676217,
     "user": {
      "displayName": "Jaime Santo",
      "photoUrl": "https://lh3.googleusercontent.com/a-/AAuE7mBmyV7-C_c1EyNHrDc0gsu0VHqVslOzG8yEXsRv=s64",
      "userId": "17913989483502775130"
     },
     "user_tz": 180
    },
    "id": "88j2IDSie3GG",
    "outputId": "218f7fe8-4693-4575-f91a-0996b0c02f48"
   },
   "outputs": [
    {
     "name": "stdout",
     "output_type": "stream",
     "text": [
      "Found 5216 images belonging to 2 classes.\n",
      "Found 624 images belonging to 2 classes.\n",
      "Found 16 images belonging to 2 classes.\n"
     ]
    }
   ],
   "source": [
    "# CREATES DATA GENERATORS FOR READING AND AUGMENTING IMAGES ######################################\n",
    "\n",
    "# The train generator will rotate, shift verticaly and horizontaly, zoom, shrink, \n",
    "# and flip images horizontally\n",
    "train_datagen = ImageDataGenerator(\n",
    "                                   preprocessing_function = preprocess_input,\n",
    "                                   rotation_range = 15,\n",
    "                                   width_shift_range = 0.1,\n",
    "                                   height_shift_range = 0.1,\n",
    "                                   zoom_range = 0.2,\n",
    "                                   horizontal_flip = True,\n",
    "                                   rescale = 1./255                           )\n",
    "\n",
    "test_datagen = ImageDataGenerator(\n",
    "                                   preprocessing_function = preprocess_input,\n",
    "                                   rescale = 1./255                           )\n",
    "\n",
    "train_generator = train_datagen.flow_from_directory(train_path,\n",
    "                                           target_size = (IM_HEIGHT, IM_WIDTH),\n",
    "                                           batch_size = BATCH_SIZE,\n",
    "                                           shuffle = True,\n",
    "                                           class_mode = 'categorical')\n",
    "\n",
    "test_generator  = test_datagen.flow_from_directory( test_path,\n",
    "                                           target_size = (IM_HEIGHT, IM_WIDTH),\n",
    "                                           batch_size = BATCH_SIZE,\n",
    "                                           class_mode = 'categorical')\n",
    "\n",
    "val_generator   = test_datagen.flow_from_directory( val_path,\n",
    "                                           target_size=(IM_HEIGHT, IM_WIDTH),\n",
    "                                           batch_size=1,\n",
    "                                           class_mode='categorical')\n"
   ]
  },
  {
   "cell_type": "code",
   "execution_count": 9,
   "metadata": {
    "colab": {
     "base_uri": "https://localhost:8080/",
     "height": 1000
    },
    "colab_type": "code",
    "executionInfo": {
     "elapsed": 16508,
     "status": "ok",
     "timestamp": 1568941830007,
     "user": {
      "displayName": "Jaime Santo",
      "photoUrl": "https://lh3.googleusercontent.com/a-/AAuE7mBmyV7-C_c1EyNHrDc0gsu0VHqVslOzG8yEXsRv=s64",
      "userId": "17913989483502775130"
     },
     "user_tz": 180
    },
    "id": "0zOxf7JGiBJw",
    "outputId": "8edf5aac-caa0-4705-a0ea-2d2d72e2b04a"
   },
   "outputs": [
    {
     "name": "stdout",
     "output_type": "stream",
     "text": [
      "Model: \"model_2\"\n",
      "_________________________________________________________________\n",
      "Layer (type)                 Output Shape              Param #   \n",
      "=================================================================\n",
      "input_2 (InputLayer)         (None, 200, 200, 3)       0         \n",
      "_________________________________________________________________\n",
      "conv1_pad (ZeroPadding2D)    (None, 201, 201, 3)       0         \n",
      "_________________________________________________________________\n",
      "conv1 (Conv2D)               (None, 100, 100, 32)      864       \n",
      "_________________________________________________________________\n",
      "conv1_bn (BatchNormalization (None, 100, 100, 32)      128       \n",
      "_________________________________________________________________\n",
      "conv1_relu (ReLU)            (None, 100, 100, 32)      0         \n",
      "_________________________________________________________________\n",
      "conv_dw_1 (DepthwiseConv2D)  (None, 100, 100, 32)      288       \n",
      "_________________________________________________________________\n",
      "conv_dw_1_bn (BatchNormaliza (None, 100, 100, 32)      128       \n",
      "_________________________________________________________________\n",
      "conv_dw_1_relu (ReLU)        (None, 100, 100, 32)      0         \n",
      "_________________________________________________________________\n",
      "conv_pw_1 (Conv2D)           (None, 100, 100, 64)      2048      \n",
      "_________________________________________________________________\n",
      "conv_pw_1_bn (BatchNormaliza (None, 100, 100, 64)      256       \n",
      "_________________________________________________________________\n",
      "conv_pw_1_relu (ReLU)        (None, 100, 100, 64)      0         \n",
      "_________________________________________________________________\n",
      "conv_pad_2 (ZeroPadding2D)   (None, 101, 101, 64)      0         \n",
      "_________________________________________________________________\n",
      "conv_dw_2 (DepthwiseConv2D)  (None, 50, 50, 64)        576       \n",
      "_________________________________________________________________\n",
      "conv_dw_2_bn (BatchNormaliza (None, 50, 50, 64)        256       \n",
      "_________________________________________________________________\n",
      "conv_dw_2_relu (ReLU)        (None, 50, 50, 64)        0         \n",
      "_________________________________________________________________\n",
      "conv_pw_2 (Conv2D)           (None, 50, 50, 128)       8192      \n",
      "_________________________________________________________________\n",
      "conv_pw_2_bn (BatchNormaliza (None, 50, 50, 128)       512       \n",
      "_________________________________________________________________\n",
      "conv_pw_2_relu (ReLU)        (None, 50, 50, 128)       0         \n",
      "_________________________________________________________________\n",
      "conv_dw_3 (DepthwiseConv2D)  (None, 50, 50, 128)       1152      \n",
      "_________________________________________________________________\n",
      "conv_dw_3_bn (BatchNormaliza (None, 50, 50, 128)       512       \n",
      "_________________________________________________________________\n",
      "conv_dw_3_relu (ReLU)        (None, 50, 50, 128)       0         \n",
      "_________________________________________________________________\n",
      "conv_pw_3 (Conv2D)           (None, 50, 50, 128)       16384     \n",
      "_________________________________________________________________\n",
      "conv_pw_3_bn (BatchNormaliza (None, 50, 50, 128)       512       \n",
      "_________________________________________________________________\n",
      "conv_pw_3_relu (ReLU)        (None, 50, 50, 128)       0         \n",
      "_________________________________________________________________\n",
      "conv_pad_4 (ZeroPadding2D)   (None, 51, 51, 128)       0         \n",
      "_________________________________________________________________\n",
      "conv_dw_4 (DepthwiseConv2D)  (None, 25, 25, 128)       1152      \n",
      "_________________________________________________________________\n",
      "conv_dw_4_bn (BatchNormaliza (None, 25, 25, 128)       512       \n",
      "_________________________________________________________________\n",
      "conv_dw_4_relu (ReLU)        (None, 25, 25, 128)       0         \n",
      "_________________________________________________________________\n",
      "conv_pw_4 (Conv2D)           (None, 25, 25, 256)       32768     \n",
      "_________________________________________________________________\n",
      "conv_pw_4_bn (BatchNormaliza (None, 25, 25, 256)       1024      \n",
      "_________________________________________________________________\n",
      "conv_pw_4_relu (ReLU)        (None, 25, 25, 256)       0         \n",
      "_________________________________________________________________\n",
      "conv_dw_5 (DepthwiseConv2D)  (None, 25, 25, 256)       2304      \n",
      "_________________________________________________________________\n",
      "conv_dw_5_bn (BatchNormaliza (None, 25, 25, 256)       1024      \n",
      "_________________________________________________________________\n",
      "conv_dw_5_relu (ReLU)        (None, 25, 25, 256)       0         \n",
      "_________________________________________________________________\n",
      "conv_pw_5 (Conv2D)           (None, 25, 25, 256)       65536     \n",
      "_________________________________________________________________\n",
      "conv_pw_5_bn (BatchNormaliza (None, 25, 25, 256)       1024      \n",
      "_________________________________________________________________\n",
      "conv_pw_5_relu (ReLU)        (None, 25, 25, 256)       0         \n",
      "_________________________________________________________________\n",
      "conv_pad_6 (ZeroPadding2D)   (None, 26, 26, 256)       0         \n",
      "_________________________________________________________________\n",
      "conv_dw_6 (DepthwiseConv2D)  (None, 12, 12, 256)       2304      \n",
      "_________________________________________________________________\n",
      "conv_dw_6_bn (BatchNormaliza (None, 12, 12, 256)       1024      \n",
      "_________________________________________________________________\n",
      "conv_dw_6_relu (ReLU)        (None, 12, 12, 256)       0         \n",
      "_________________________________________________________________\n",
      "conv_pw_6 (Conv2D)           (None, 12, 12, 512)       131072    \n",
      "_________________________________________________________________\n",
      "conv_pw_6_bn (BatchNormaliza (None, 12, 12, 512)       2048      \n",
      "_________________________________________________________________\n",
      "conv_pw_6_relu (ReLU)        (None, 12, 12, 512)       0         \n",
      "_________________________________________________________________\n",
      "conv_dw_7 (DepthwiseConv2D)  (None, 12, 12, 512)       4608      \n",
      "_________________________________________________________________\n",
      "conv_dw_7_bn (BatchNormaliza (None, 12, 12, 512)       2048      \n",
      "_________________________________________________________________\n",
      "conv_dw_7_relu (ReLU)        (None, 12, 12, 512)       0         \n",
      "_________________________________________________________________\n",
      "conv_pw_7 (Conv2D)           (None, 12, 12, 512)       262144    \n",
      "_________________________________________________________________\n",
      "conv_pw_7_bn (BatchNormaliza (None, 12, 12, 512)       2048      \n",
      "_________________________________________________________________\n",
      "conv_pw_7_relu (ReLU)        (None, 12, 12, 512)       0         \n",
      "_________________________________________________________________\n",
      "conv_dw_8 (DepthwiseConv2D)  (None, 12, 12, 512)       4608      \n",
      "_________________________________________________________________\n",
      "conv_dw_8_bn (BatchNormaliza (None, 12, 12, 512)       2048      \n",
      "_________________________________________________________________\n",
      "conv_dw_8_relu (ReLU)        (None, 12, 12, 512)       0         \n",
      "_________________________________________________________________\n",
      "conv_pw_8 (Conv2D)           (None, 12, 12, 512)       262144    \n",
      "_________________________________________________________________\n",
      "conv_pw_8_bn (BatchNormaliza (None, 12, 12, 512)       2048      \n",
      "_________________________________________________________________\n",
      "conv_pw_8_relu (ReLU)        (None, 12, 12, 512)       0         \n",
      "_________________________________________________________________\n",
      "conv_dw_9 (DepthwiseConv2D)  (None, 12, 12, 512)       4608      \n",
      "_________________________________________________________________\n",
      "conv_dw_9_bn (BatchNormaliza (None, 12, 12, 512)       2048      \n",
      "_________________________________________________________________\n",
      "conv_dw_9_relu (ReLU)        (None, 12, 12, 512)       0         \n",
      "_________________________________________________________________\n",
      "conv_pw_9 (Conv2D)           (None, 12, 12, 512)       262144    \n",
      "_________________________________________________________________\n",
      "conv_pw_9_bn (BatchNormaliza (None, 12, 12, 512)       2048      \n",
      "_________________________________________________________________\n",
      "conv_pw_9_relu (ReLU)        (None, 12, 12, 512)       0         \n",
      "_________________________________________________________________\n",
      "conv_dw_10 (DepthwiseConv2D) (None, 12, 12, 512)       4608      \n",
      "_________________________________________________________________\n",
      "conv_dw_10_bn (BatchNormaliz (None, 12, 12, 512)       2048      \n",
      "_________________________________________________________________\n",
      "conv_dw_10_relu (ReLU)       (None, 12, 12, 512)       0         \n",
      "_________________________________________________________________\n",
      "conv_pw_10 (Conv2D)          (None, 12, 12, 512)       262144    \n",
      "_________________________________________________________________\n",
      "conv_pw_10_bn (BatchNormaliz (None, 12, 12, 512)       2048      \n",
      "_________________________________________________________________\n",
      "conv_pw_10_relu (ReLU)       (None, 12, 12, 512)       0         \n",
      "_________________________________________________________________\n",
      "conv_dw_11 (DepthwiseConv2D) (None, 12, 12, 512)       4608      \n",
      "_________________________________________________________________\n",
      "conv_dw_11_bn (BatchNormaliz (None, 12, 12, 512)       2048      \n",
      "_________________________________________________________________\n",
      "conv_dw_11_relu (ReLU)       (None, 12, 12, 512)       0         \n",
      "_________________________________________________________________\n",
      "conv_pw_11 (Conv2D)          (None, 12, 12, 512)       262144    \n",
      "_________________________________________________________________\n",
      "conv_pw_11_bn (BatchNormaliz (None, 12, 12, 512)       2048      \n",
      "_________________________________________________________________\n",
      "conv_pw_11_relu (ReLU)       (None, 12, 12, 512)       0         \n",
      "_________________________________________________________________\n",
      "conv_pad_12 (ZeroPadding2D)  (None, 13, 13, 512)       0         \n",
      "_________________________________________________________________\n",
      "conv_dw_12 (DepthwiseConv2D) (None, 6, 6, 512)         4608      \n",
      "_________________________________________________________________\n",
      "conv_dw_12_bn (BatchNormaliz (None, 6, 6, 512)         2048      \n",
      "_________________________________________________________________\n",
      "conv_dw_12_relu (ReLU)       (None, 6, 6, 512)         0         \n",
      "_________________________________________________________________\n",
      "conv_pw_12 (Conv2D)          (None, 6, 6, 1024)        524288    \n",
      "_________________________________________________________________\n",
      "conv_pw_12_bn (BatchNormaliz (None, 6, 6, 1024)        4096      \n",
      "_________________________________________________________________\n",
      "conv_pw_12_relu (ReLU)       (None, 6, 6, 1024)        0         \n",
      "_________________________________________________________________\n",
      "conv_dw_13 (DepthwiseConv2D) (None, 6, 6, 1024)        9216      \n",
      "_________________________________________________________________\n",
      "conv_dw_13_bn (BatchNormaliz (None, 6, 6, 1024)        4096      \n",
      "_________________________________________________________________\n",
      "conv_dw_13_relu (ReLU)       (None, 6, 6, 1024)        0         \n",
      "_________________________________________________________________\n",
      "conv_pw_13 (Conv2D)          (None, 6, 6, 1024)        1048576   \n",
      "_________________________________________________________________\n",
      "conv_pw_13_bn (BatchNormaliz (None, 6, 6, 1024)        4096      \n",
      "_________________________________________________________________\n",
      "conv_pw_13_relu (ReLU)       (None, 6, 6, 1024)        0         \n",
      "_________________________________________________________________\n",
      "global_average_pooling2d_2 ( (None, 1024)              0         \n",
      "_________________________________________________________________\n",
      "dense_3 (Dense)              (None, 1024)              1049600   \n",
      "_________________________________________________________________\n",
      "batch_normalization_2 (Batch (None, 1024)              4096      \n",
      "_________________________________________________________________\n",
      "dropout_2 (Dropout)          (None, 1024)              0         \n",
      "_________________________________________________________________\n",
      "dense_4 (Dense)              (None, 2)                 2050      \n",
      "=================================================================\n",
      "Total params: 4,284,610\n",
      "Trainable params: 4,260,674\n",
      "Non-trainable params: 23,936\n",
      "_________________________________________________________________\n"
     ]
    }
   ],
   "source": [
    "# LOADS THE PREVIOUSLY SAVED MODEL ##############################################################\n",
    "\n",
    "model = models.load_model(models_path + model_file_name)\n",
    "\n",
    "# Lets use a small learning rate to fine tune the model\n",
    "optim = SGD(lr=0.00002) \n",
    "#optim = RMSprop(lr=0.0007) \n",
    "model.compile(optimizer=optim, loss='categorical_crossentropy', metrics=['accuracy'] )\n",
    "\n",
    "model.summary()\n",
    "\n",
    "# Prints full model layers\n",
    "#for i,layer in enumerate(model.layers):  \n",
    "#  if(layer.trainable == True): print(i,layer.name)"
   ]
  },
  {
   "cell_type": "code",
   "execution_count": 6,
   "metadata": {
    "colab": {
     "base_uri": "https://localhost:8080/",
     "height": 1000
    },
    "colab_type": "code",
    "executionInfo": {
     "elapsed": 4787522,
     "status": "ok",
     "timestamp": 1568941510243,
     "user": {
      "displayName": "Jaime Santo",
      "photoUrl": "https://lh3.googleusercontent.com/a-/AAuE7mBmyV7-C_c1EyNHrDc0gsu0VHqVslOzG8yEXsRv=s64",
      "userId": "17913989483502775130"
     },
     "user_tz": 180
    },
    "id": "WEcQ2bLk6kN7",
    "outputId": "7959327c-347e-4908-b55f-7f9bbd0055c0"
   },
   "outputs": [
    {
     "name": "stdout",
     "output_type": "stream",
     "text": [
      "Epoch 1/30\n",
      "163/163 [==============================] - 1543s 9s/step - loss: 0.0075 - acc: 0.9971 - val_loss: 0.4453 - val_acc: 0.9342\n",
      "\n",
      "Epoch 00001: val_acc improved from -inf to 0.93421, saving model to /content/drive/My Drive/ML/projects/chest_xray/cnn_models/mobilenet_tuning.01-0.9342.h5\n",
      "Epoch 2/30\n",
      "163/163 [==============================] - 111s 678ms/step - loss: 0.0057 - acc: 0.9977 - val_loss: 0.4573 - val_acc: 0.9341\n",
      "\n",
      "Epoch 00002: val_acc did not improve from 0.93421\n",
      "Epoch 3/30\n",
      "163/163 [==============================] - 110s 676ms/step - loss: 0.0070 - acc: 0.9977 - val_loss: 0.4211 - val_acc: 0.9392\n",
      "\n",
      "Epoch 00003: val_acc improved from 0.93421 to 0.93919, saving model to /content/drive/My Drive/ML/projects/chest_xray/cnn_models/mobilenet_tuning.03-0.9392.h5\n",
      "Epoch 4/30\n",
      "163/163 [==============================] - 110s 677ms/step - loss: 0.0065 - acc: 0.9977 - val_loss: 0.3756 - val_acc: 0.9426\n",
      "\n",
      "Epoch 00004: val_acc improved from 0.93919 to 0.94257, saving model to /content/drive/My Drive/ML/projects/chest_xray/cnn_models/mobilenet_tuning.04-0.9426.h5\n",
      "Epoch 5/30\n",
      "163/163 [==============================] - 111s 682ms/step - loss: 0.0138 - acc: 0.9975 - val_loss: 0.4490 - val_acc: 0.9324\n",
      "\n",
      "Epoch 00005: val_acc did not improve from 0.94257\n",
      "Epoch 6/30\n",
      "163/163 [==============================] - 111s 679ms/step - loss: 0.0066 - acc: 0.9985 - val_loss: 0.4346 - val_acc: 0.9392\n",
      "\n",
      "Epoch 00006: val_acc did not improve from 0.94257\n",
      "Epoch 7/30\n",
      "163/163 [==============================] - 112s 685ms/step - loss: 0.0146 - acc: 0.9964 - val_loss: 0.4216 - val_acc: 0.9341\n",
      "\n",
      "Epoch 00007: val_acc did not improve from 0.94257\n",
      "Epoch 8/30\n",
      "163/163 [==============================] - 111s 679ms/step - loss: 0.0092 - acc: 0.9979 - val_loss: 0.4230 - val_acc: 0.9392\n",
      "\n",
      "Epoch 00008: val_acc did not improve from 0.94257\n",
      "Epoch 9/30\n",
      "163/163 [==============================] - 112s 684ms/step - loss: 0.0099 - acc: 0.9971 - val_loss: 0.4767 - val_acc: 0.9257\n",
      "\n",
      "Epoch 00009: val_acc did not improve from 0.94257\n",
      "Epoch 10/30\n",
      "163/163 [==============================] - 112s 685ms/step - loss: 0.0373 - acc: 0.9948 - val_loss: 0.4279 - val_acc: 0.9358\n",
      "\n",
      "Epoch 00010: val_acc did not improve from 0.94257\n",
      "Epoch 11/30\n",
      "163/163 [==============================] - 111s 682ms/step - loss: 0.0115 - acc: 0.9965 - val_loss: 0.4805 - val_acc: 0.9426\n",
      "\n",
      "Epoch 00011: val_acc did not improve from 0.94257\n",
      "Epoch 12/30\n",
      "163/163 [==============================] - 111s 680ms/step - loss: 0.0118 - acc: 0.9964 - val_loss: 0.4245 - val_acc: 0.9324\n",
      "\n",
      "Epoch 00012: val_acc did not improve from 0.94257\n",
      "Epoch 13/30\n",
      "163/163 [==============================] - 113s 693ms/step - loss: 0.0070 - acc: 0.9981 - val_loss: 0.3707 - val_acc: 0.9459\n",
      "\n",
      "Epoch 00013: val_acc improved from 0.94257 to 0.94595, saving model to /content/drive/My Drive/ML/projects/chest_xray/cnn_models/mobilenet_tuning.13-0.9459.h5\n",
      "Epoch 14/30\n",
      "163/163 [==============================] - 112s 688ms/step - loss: 0.0070 - acc: 0.9981 - val_loss: 0.4876 - val_acc: 0.9240\n",
      "\n",
      "Epoch 00014: val_acc did not improve from 0.94595\n",
      "Epoch 15/30\n",
      "163/163 [==============================] - 110s 674ms/step - loss: 0.0045 - acc: 0.9983 - val_loss: 0.4052 - val_acc: 0.9392\n",
      "\n",
      "Epoch 00015: val_acc did not improve from 0.94595\n",
      "Epoch 16/30\n",
      "163/163 [==============================] - 112s 686ms/step - loss: 0.0170 - acc: 0.9958 - val_loss: 0.4331 - val_acc: 0.9443\n",
      "\n",
      "Epoch 00016: val_acc did not improve from 0.94595\n",
      "Epoch 17/30\n",
      "163/163 [==============================] - 112s 685ms/step - loss: 0.0252 - acc: 0.9948 - val_loss: 0.4519 - val_acc: 0.9324\n",
      "\n",
      "Epoch 00017: val_acc did not improve from 0.94595\n",
      "Epoch 18/30\n",
      "163/163 [==============================] - 112s 689ms/step - loss: 0.0101 - acc: 0.9973 - val_loss: 0.4108 - val_acc: 0.9375\n",
      "\n",
      "Epoch 00018: val_acc did not improve from 0.94595\n",
      "Epoch 19/30\n",
      "163/163 [==============================] - 112s 685ms/step - loss: 0.0150 - acc: 0.9952 - val_loss: 0.4449 - val_acc: 0.9307\n",
      "\n",
      "Epoch 00019: val_acc did not improve from 0.94595\n",
      "Epoch 20/30\n",
      "163/163 [==============================] - 112s 687ms/step - loss: 0.0054 - acc: 0.9979 - val_loss: 0.4374 - val_acc: 0.9375\n",
      "\n",
      "Epoch 00020: val_acc did not improve from 0.94595\n",
      "Epoch 21/30\n",
      "163/163 [==============================] - 113s 691ms/step - loss: 0.0127 - acc: 0.9969 - val_loss: 0.4414 - val_acc: 0.9342\n",
      "\n",
      "Epoch 00021: val_acc did not improve from 0.94595\n",
      "Epoch 22/30\n",
      "163/163 [==============================] - 115s 703ms/step - loss: 0.0046 - acc: 0.9983 - val_loss: 0.4213 - val_acc: 0.9392\n",
      "\n",
      "Epoch 00022: val_acc did not improve from 0.94595\n",
      "Epoch 23/30\n",
      "163/163 [==============================] - 111s 682ms/step - loss: 0.0154 - acc: 0.9971 - val_loss: 0.4010 - val_acc: 0.9392\n",
      "\n",
      "Epoch 00023: val_acc did not improve from 0.94595\n",
      "Epoch 24/30\n",
      "163/163 [==============================] - 111s 680ms/step - loss: 0.0134 - acc: 0.9962 - val_loss: 0.4294 - val_acc: 0.9358\n",
      "\n",
      "Epoch 00024: val_acc did not improve from 0.94595\n",
      "Epoch 25/30\n",
      "163/163 [==============================] - 111s 682ms/step - loss: 0.0109 - acc: 0.9975 - val_loss: 0.4324 - val_acc: 0.9358\n",
      "\n",
      "Epoch 00025: val_acc did not improve from 0.94595\n",
      "Epoch 26/30\n",
      "163/163 [==============================] - 111s 679ms/step - loss: 0.0102 - acc: 0.9969 - val_loss: 0.5483 - val_acc: 0.9223\n",
      "\n",
      "Epoch 00026: val_acc did not improve from 0.94595\n",
      "Epoch 27/30\n",
      "163/163 [==============================] - 112s 685ms/step - loss: 0.0098 - acc: 0.9969 - val_loss: 0.2959 - val_acc: 0.9527\n",
      "\n",
      "Epoch 00027: val_acc improved from 0.94595 to 0.95270, saving model to /content/drive/My Drive/ML/projects/chest_xray/cnn_models/mobilenet_tuning.27-0.9527.h5\n",
      "Epoch 28/30\n",
      "163/163 [==============================] - 110s 677ms/step - loss: 0.0116 - acc: 0.9962 - val_loss: 0.4446 - val_acc: 0.9341\n",
      "\n",
      "Epoch 00028: val_acc did not improve from 0.95270\n",
      "Epoch 29/30\n",
      "163/163 [==============================] - 112s 687ms/step - loss: 0.0084 - acc: 0.9977 - val_loss: 0.4821 - val_acc: 0.9324\n",
      "\n",
      "Epoch 00029: val_acc did not improve from 0.95270\n",
      "Epoch 30/30\n",
      "163/163 [==============================] - 112s 688ms/step - loss: 0.0103 - acc: 0.9964 - val_loss: 0.4444 - val_acc: 0.9341\n",
      "\n",
      "Epoch 00030: val_acc did not improve from 0.95270\n"
     ]
    }
   ],
   "source": [
    "# TRAINS THE MODEL ###############################################################################\n",
    "\n",
    "# Configures callback function for saving the model when val_acc improves\n",
    "h5_filepath = models_path + \"mobilenet_tuning.{epoch:02d}-{val_accuracy:.4f}.h5\"\n",
    "checkpoint = ModelCheckpoint( h5_filepath, monitor='val_accuracy', verbose=1, \n",
    "                              save_best_only=True, \n",
    "                              save_weights_only=False, \n",
    "                              mode='auto', \n",
    "                              period=1)  # number of epochs between checkpoints\n",
    "\n",
    "# Configures callback to stop training when val_acc stops improving\n",
    "# early = EarlyStopping(monitor='val_acc', min_delta=0, patience=3, verbose=1, \n",
    "#                       mode='auto')\n",
    "#callbacks_list = [checkpoint, early]\n",
    "callbacks_list = [checkpoint]\n",
    "\n",
    "history = model.fit_generator(train_generator,\n",
    "                              steps_per_epoch = NTRAIN_IMAGES // BATCH_SIZE,\n",
    "                              epochs = 30,\n",
    "                              validation_data = test_generator,\n",
    "                              validation_steps = NTEST_IMAGES // BATCH_SIZE,\n",
    "                              #shuffle = True, \n",
    "                              callbacks = callbacks_list )"
   ]
  },
  {
   "cell_type": "code",
   "execution_count": 7,
   "metadata": {
    "colab": {
     "base_uri": "https://localhost:8080/",
     "height": 295
    },
    "colab_type": "code",
    "executionInfo": {
     "elapsed": 989,
     "status": "ok",
     "timestamp": 1568941560357,
     "user": {
      "displayName": "Jaime Santo",
      "photoUrl": "https://lh3.googleusercontent.com/a-/AAuE7mBmyV7-C_c1EyNHrDc0gsu0VHqVslOzG8yEXsRv=s64",
      "userId": "17913989483502775130"
     },
     "user_tz": 180
    },
    "id": "JZGzp8DvjEKZ",
    "outputId": "20f2a3c2-56de-4b7c-9fa8-b7f08701124c"
   },
   "outputs": [
    {
     "data": {
      "image/png": "[encoded data removed]",
      "text/plain": [
       "<Figure size 432x288 with 1 Axes>"
      ]
     },
     "metadata": {
      "tags": []
     },
     "output_type": "display_data"
    }
   ],
   "source": [
    "# PLOTS TRAINING RESULTS ###############################################################################\n",
    "\n",
    "# Plots history for accuracy\n",
    "plt.plot(history.history['accuracy'])\n",
    "plt.plot(history.history['val_accuracy'])\n",
    "plt.title('model accuracy')\n",
    "plt.ylabel('accuracy')\n",
    "plt.xlabel('epoch')\n",
    "plt.legend(['train', 'test'], loc='best')\n",
    "plt.show()\n",
    "\n",
    "#from sklearn.metrics import classification_report\n",
    "#pred = model.predict(test_set)\n",
    "#print(classification_report(np.argmax(y_valid, axis = 1),np.argmax(pred, axis = 1)))"
   ]
  },
  {
   "cell_type": "code",
   "execution_count": 0,
   "metadata": {
    "colab": {},
    "colab_type": "code",
    "id": "1mRVlXl0YOj2"
   },
   "outputs": [],
   "source": [
    "model_path = \"/content/drive/My Drive/ML/projects/chest_xray/cnn_models/mobilenet.27-0.9527.h5\"\n",
    "\n",
    "model.save_weights(model_path)\n"
   ]
  }
 ],
 "metadata": {
  "accelerator": "GPU",
  "colab": {
   "collapsed_sections": [],
   "machine_shape": "hm",
   "name": "chest_xray_finetune.ipynb",
   "provenance": [
    {
     "file_id": "1LVf1_PlXf0CiIuexx8nxe4CfPp5QiGux",
     "timestamp": 1568771141998
    },
    {
     "file_id": "11-_85rmydNrGsTlqmFcADrbD6VX7wvyY",
     "timestamp": 1568723680886
    },
    {
     "file_id": "14NcDx3c8ZeygnAF49dRWoDZ6wuBqORou",
     "timestamp": 1568640275604
    },
    {
     "file_id": "1cnPoANs2Zxt5HnGuLNACXXu2IeQOxTQN",
     "timestamp": 1568594148501
    },
    {
     "file_id": "1pjS0WP_vaM5gjT6RtoHxUQB0M8RiWfT1",
     "timestamp": 1568308527292
    }
   ]
  },
  "kernelspec": {
   "display_name": "Python 3",
   "language": "python",
   "name": "python3"
  },
  "language_info": {
   "codemirror_mode": {
    "name": "ipython",
    "version": 3
   },
   "file_extension": ".py",
   "mimetype": "text/x-python",
   "name": "python",
   "nbconvert_exporter": "python",
   "pygments_lexer": "ipython3",
   "version": "3.6.10"
  }
 },
 "nbformat": 4,
 "nbformat_minor": 1
}
